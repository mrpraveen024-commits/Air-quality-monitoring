import random
import pandas as pd
import matplotlib.pyplot as plt
from datetime import datetime, timedelta

# Function to simulate sensor readings
def generate_sensor_data(n=100):
    data = []
    start_time = datetime.now()
    for i in range(n):
        entry = {
            'timestamp': start_time + timedelta(minutes=i),
            'pm25': round(random.uniform(5, 200), 2),
            'pm10': round(random.uniform(10, 300), 2),
            'co_ppm': round(random.uniform(0.1, 10), 2),
            'no2_ppb': round(random.uniform(10, 200), 2),
            'temperature': round(random.uniform(20, 40), 2),
            'humidity': round(random.uniform(30, 90), 2)
        }
        data.append(entry)
    return pd.DataFrame(data)

# Generate data
df = generate_sensor_data(100)

# AQI calculation for PM2.5
def calculate_aqi_pm25(concentration):
    if concentration <= 12:
        return concentration * (50 / 12)
    elif concentration <= 35.4:
        return 51 + (concentration - 12.1) * (49 / (35.4 - 12.1))
    elif concentration <= 55.4:
        return 101 + (concentration - 35.5) * (49 / (55.4 - 35.5))
    elif concentration <= 150.4:
        return 151 + (concentration - 55.5) * (49 / (150.4 - 55.5))
    else:
        return 201  # Cap at 201 for simplification

# AQI calculation for PM10
def calculate_aqi_pm10(concentration):
    if concentration <= 54:
        return concentration * (50 / 54)
    elif concentration <= 154:
        return 51 + (concentration - 55) * (49 / (154 - 55))
    elif concentration <= 254:
        return 101 + (concentration - 155) * (49 / (254 - 155))
    elif concentration <= 354:
        return 151 + (concentration - 255) * (49 / (354 - 255))
    else:
        return 201  # Cap at 201 for simplification

# Apply AQI calculations
df['AQI_PM25'] = df['pm25'].apply(calculate_aqi_pm25)
df['AQI_PM10'] = df['pm10'].apply(calculate_aqi_pm10)
df['AQI'] = df[['AQI_PM25', 'AQI_PM10']].max(axis=1)

# Preview first 5 rows
print(df.head())

# Plot AQI trend
plt.figure(figsize=(10, 5))
plt.plot(df['timestamp'], df['AQI'], label='AQI', color='red')
plt.xlabel('Time')
plt.ylabel('Air Quality Index')
plt.title('Air Quality Index Over Time')
plt.legend()
plt.grid(True)
plt.tight_layout()
plt.show()

# Save to CSV
df.to_csv('air_quality_data.csv', index=False)
print('Data saved to air_quality_data.csv')
